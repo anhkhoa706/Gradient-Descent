{
 "cells": [
  {
   "cell_type": "code",
   "execution_count": 2,
   "metadata": {},
   "outputs": [],
   "source": [
    "import pandas as pd"
   ]
  },
  {
   "cell_type": "code",
   "execution_count": 8,
   "metadata": {},
   "outputs": [
    {
     "name": "stdout",
     "output_type": "stream",
     "text": [
      "Initial columns in the dataset: ['The villages and towns urban district', 'transaction sign', 'land sector position building sector house number plate', 'land shifting total area square meter', 'the use zoning or compiles and checks', 'the non-metropolis land use district', 'non-metropolis land use', 'transaction year month and day', 'transaction pen number', 'shifting level', 'total floor number', 'building state', 'main use', 'main building materials', 'construction to complete the years', 'building shifting total area', 'Building present situation pattern - room', 'building present situation pattern - hall', 'building present situation pattern - health', 'building present situation pattern - compartmented', 'Whether there is manages the organization', 'total price NTD', 'the unit price (NTD / square meter)', 'the berth category', 'berth shifting total area square meter', 'the berth total price NTD', 'the note', 'serial number', 'main building area', 'auxiliary building area', 'balcony area', 'elevator', 'transaction number']\n"
     ]
    }
   ],
   "source": [
    "# Step 1: Load the CSV file\n",
    "df = pd.read_csv(\"csv/a_lvr_land_a.csv\", header=1)\n",
    "print(\"Initial columns in the dataset:\", df.columns.tolist())\n",
    "\n",
    "# Optional: preview the first few rows\n",
    "# print(df.head())"
   ]
  },
  {
   "cell_type": "code",
   "execution_count": 73,
   "metadata": {},
   "outputs": [],
   "source": [
    "# Select the five columns you need\n",
    "columns_to_select = [\n",
    "    \"total price NTD\",\n",
    "    \"the unit price (NTD / square meter)\",\n",
    "    \"main building area\",\n",
    "    \"auxiliary building area\",\n",
    "    \"balcony area\"\n",
    "]"
   ]
  },
  {
   "cell_type": "code",
   "execution_count": 82,
   "metadata": {},
   "outputs": [
    {
     "name": "stdout",
     "output_type": "stream",
     "text": [
      "Selected columns:\n",
      "   total price NTD  the unit price (NTD / square meter)  main building area  \\\n",
      "0          7000000                             270270.0                0.00   \n",
      "3         66000000                             257370.0              193.10   \n",
      "4          5450000                             164206.0               18.94   \n",
      "5        147000000                             516509.0              152.96   \n",
      "6         23500000                             258299.0               50.66   \n",
      "\n",
      "   auxiliary building area  balcony area  \n",
      "0                     0.00          0.00  \n",
      "3                    24.70         38.64  \n",
      "4                     0.00          4.52  \n",
      "5                     8.54         10.19  \n",
      "6                     0.00          8.58  \n"
     ]
    }
   ],
   "source": [
    "# If any of the columns don't exist, pandas will raise a KeyError\n",
    "# so you can wrap this in a try-except or check columns beforehand.\n",
    "df_selected = df[columns_to_select]\n",
    "\n",
    "# (Optional) Clean data - for example, drop rows with missing values\n",
    "df_selected = df_selected.dropna()\n",
    "\n",
    "# Preview the result\n",
    "print(\"Selected columns:\")\n",
    "print(df_selected.head())"
   ]
  },
  {
   "cell_type": "code",
   "execution_count": null,
   "metadata": {},
   "outputs": [
    {
     "name": "stdout",
     "output_type": "stream",
     "text": [
      "Saved 'selected_columns.csv' with the requested columns.\n"
     ]
    }
   ],
   "source": [
    "# (Optional) Save the filtered DataFrame to a new CSV\n",
    "df_selected.to_csv(\"csv/selected_columns.csv\", index=False)\n",
    "print(\"Saved 'selected_columns.csv' with the requested columns.\")"
   ]
  },
  {
   "cell_type": "code",
   "execution_count": 85,
   "metadata": {},
   "outputs": [],
   "source": [
    "for index, row in df_selected.iterrows():\n",
    "    row_value = [row['main building area'], row['auxiliary building area'], row['balcony area']]\n",
    "    if 0 in row_value:\n",
    "        df_selected.drop(index, inplace=True)"
   ]
  },
  {
   "cell_type": "code",
   "execution_count": null,
   "metadata": {},
   "outputs": [
    {
     "data": {
      "text/plain": [
       "[193.1,\n",
       " 152.96,\n",
       " 65.48,\n",
       " 42.07,\n",
       " 54.56,\n",
       " 97.08,\n",
       " 31.52,\n",
       " 42.23,\n",
       " 90.97,\n",
       " 75.96,\n",
       " 66.96,\n",
       " 52.06,\n",
       " 50.97,\n",
       " 61.81,\n",
       " 104.37,\n",
       " 124.1,\n",
       " 145.7,\n",
       " 155.88,\n",
       " 77.02,\n",
       " 68.66,\n",
       " 75.29,\n",
       " 23.6,\n",
       " 112.5,\n",
       " 52.65,\n",
       " 75.77,\n",
       " 43.31,\n",
       " 109.89,\n",
       " 33.89,\n",
       " 121.95,\n",
       " 65.25,\n",
       " 37.57,\n",
       " 56.49,\n",
       " 26.84,\n",
       " 22.85,\n",
       " 20.03,\n",
       " 46.07,\n",
       " 30.89,\n",
       " 25.09,\n",
       " 44.8,\n",
       " 33.67,\n",
       " 98.06,\n",
       " 26.29,\n",
       " 82.41,\n",
       " 115.02,\n",
       " 36.27,\n",
       " 44.34,\n",
       " 102.54,\n",
       " 101.18,\n",
       " 98.39,\n",
       " 148.43,\n",
       " 62.66,\n",
       " 121.41,\n",
       " 122.02,\n",
       " 131.53,\n",
       " 92.32,\n",
       " 112.25,\n",
       " 99.18,\n",
       " 86.63,\n",
       " 86.88,\n",
       " 110.32,\n",
       " 100.1]"
      ]
     },
     "execution_count": 7,
     "metadata": {},
     "output_type": "execute_result"
    }
   ],
   "source": [
    "df = pd.read_csv(\"csv/selected_columns_remove_zero.csv\")\n",
    "df['main building area'].values.tolist()"
   ]
  },
  {
   "cell_type": "code",
   "execution_count": 86,
   "metadata": {},
   "outputs": [
    {
     "name": "stdout",
     "output_type": "stream",
     "text": [
      "Saved 'selected_columns.csv' with the requested columns.\n"
     ]
    }
   ],
   "source": [
    "# (Optional) Save the filtered DataFrame to a new CSV\n",
    "df_selected.to_csv(\"selected_columns_remove_zero.csv\", index=False)\n",
    "print(\"Saved 'selected_columns.csv' with the requested columns.\")"
   ]
  }
 ],
 "metadata": {
  "kernelspec": {
   "display_name": "python_ml",
   "language": "python",
   "name": "python3"
  },
  "language_info": {
   "codemirror_mode": {
    "name": "ipython",
    "version": 3
   },
   "file_extension": ".py",
   "mimetype": "text/x-python",
   "name": "python",
   "nbconvert_exporter": "python",
   "pygments_lexer": "ipython3",
   "version": "3.10.16"
  }
 },
 "nbformat": 4,
 "nbformat_minor": 2
}
